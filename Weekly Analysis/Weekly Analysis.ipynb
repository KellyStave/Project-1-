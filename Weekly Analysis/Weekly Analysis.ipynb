{
 "cells": [
  {
   "cell_type": "markdown",
   "metadata": {},
   "source": [
    "# Weekly Analysis of California Covid-19 Cases\n",
    "- From July 2020 to September 2020 cases and deaths rise steadily. \n",
    "    - The total number of cases ranges from 2.07 million to 5.60 million.\n",
    "    - The total number of deaths ranges from 0.047 million to 0.11 million.\n",
    "    - The weekly average number of cases ranges from 0.30 million to 0.80 million.\n",
    "    - The weekly average number of deaths ranges from 0.0067 million to 0.015 million.\n",
    "\n",
    "- From October 2020 to December 2020 cases rise over time with a steep increase starting the week of November 7th up to February 6th. The number of deaths have a steep increase between November 28th and March 13th.\n",
    "    - The total number of cases ranges from 5.75 million to 14.05 million.\n",
    "        - The total number of cases the week of November 7th was 7.01 million, the rise in cases changes from 500,000 between November 7th to November 14th, to a rise of 2.0 million between December 12th and December 19th.\n",
    "    - The total number of deaths ranges from 0.11 million to 0.16 million.\n",
    "        - The total number of deaths the week of November 28th was 0.14 million, the rise in deaths changes from 6,800 between November 28th to December 5th, to a rise of 12,000 between December 12th and December 19th.\n",
    "    - The weekly average number of cases ranges from 0.82 million to 2.01 million.\n",
    "        - The weekly average number of casees the week of November 7th was 1.00 million, the rise in average cases changes from 69,000 between November 7th to November 14th, to a rise of 290,000 between December 12th and December 19th.\n",
    "    - The weekly average number of deaths ranges from 0.016 million to 0.024 million.\n",
    "        - The weekly average number of deaths the week of November 28th was 0.019 million, the rise in average cases changes from 966 cases between November 28th to December 5th, to a rise of 1,700 between December 12th and December 19th.\n",
    "        \n",
    "- From January 2021 to March 2021 cases and deaths the cases rise steadily and plateau the week of February 6th, the deaths rise steadily the entire trimester.\n",
    "    - The total number of cases ranges from 15.9 million to 25.6 million.\n",
    "    - The total number of deaths ranges from 0.18 million to 0.41 million.\n",
    "    - The average number of cases ranges from 2.28 million to 3.65 million.\n",
    "    - The average number of deaths ranges from 0.025 million to 0.058 million.\n",
    "\n",
    "- From April 2021 to June 2021 deaths and cases rise steadily, deaths dip slightly and don't increase between the weeks of May 29th and June 5th but deaths rise again after this period.\n",
    "    - The total number of cases ranges from 25.69 million to 26.69 million.\n",
    "    - The total number of deaths ranges from 0.41 million to 0.44 million.\n",
    "    - The average number of cases ranges from 3.67 million to 3.81 million.\n",
    "    - The average number fo deaths ranges from 0.059 million to 0.063 million."
   ]
  },
  {
   "cell_type": "code",
   "execution_count": null,
   "metadata": {},
   "outputs": [],
   "source": [
    "#dependencies and setup\n",
    "import json\n",
    "import pandas as pd\n",
    "import numpy as np\n",
    "import matplotlib.pyplot as plt\n",
    "from scipy.stats import linregress\n",
    "\n",
    "#load data file\n",
    "data = \"C:/Users/geral/OneDrive/Documents/GitHub/Project-1-/ca_data_jul20-jul21.csv\"\n",
    "\n",
    "#read data file and store in dataframe\n",
    "covid_data = pd.read_csv(data)\n",
    "covid_data"
   ]
  },
  {
   "cell_type": "code",
   "execution_count": null,
   "metadata": {},
   "outputs": [],
   "source": [
    "#create new dataframe and drop county column\n",
    "daily = covid_data\n",
    "\n",
    "daily = daily.drop('county', axis = 1)\n",
    "\n",
    "daily"
   ]
  },
  {
   "cell_type": "code",
   "execution_count": null,
   "metadata": {},
   "outputs": [],
   "source": [
    "#group by date and sum the value to obtain the total number of cases and deaths in California any given day\n",
    "daily = daily.groupby('date').sum()\n",
    "\n",
    "daily"
   ]
  },
  {
   "cell_type": "code",
   "execution_count": null,
   "metadata": {},
   "outputs": [],
   "source": [
    "#the first day included is Wednesday, which will be day 4 of the week if we are looking at the week Sun-Sat, se we start at 3 so that the count starts at 4 when iterating through the rows\n",
    "day_of_week = 3\n",
    "#start at week number 1\n",
    "week_number = 1\n",
    "\n",
    "#iterate through dataframe rows\n",
    "for index, row in daily.iterrows():\n",
    "    #if the day of the week is less than 7, add 1 to the counter\n",
    "    if day_of_week <7:\n",
    "        day_of_week += 1\n",
    "        #enter the day of the week and the week number in the dataframe\n",
    "        daily.loc[index, 'Week'] = week_number\n",
    "        daily.loc[index, 'Weekday'] = day_of_week\n",
    "    #if the day of the week is equal to 7 reset to 1, and add 1 to the week number counter\n",
    "    elif day_of_week == 7:\n",
    "        day_of_week = 1\n",
    "        week_number += 1\n",
    "        #enter the day of the week and the week number in the dataframe\n",
    "        daily.loc[index, 'Week'] = week_number\n",
    "        daily.loc[index, 'Weekday'] = day_of_week\n",
    "    else:\n",
    "        print('Error')\n",
    "\n",
    "daily"
   ]
  },
  {
   "cell_type": "code",
   "execution_count": null,
   "metadata": {},
   "outputs": [],
   "source": [
    "#create new dataframe that groups the rows by week and add values in all other rows\n",
    "weekly_cases = daily.groupby('Week').sum()\n",
    "\n",
    "weekly_cases"
   ]
  },
  {
   "cell_type": "code",
   "execution_count": null,
   "metadata": {},
   "outputs": [],
   "source": [
    "#check that the Week column is the index\n",
    "weekly_cases.index"
   ]
  },
  {
   "cell_type": "code",
   "execution_count": null,
   "metadata": {},
   "outputs": [],
   "source": [
    "#divide the cases and deaths by 7 to obtain the weekly case average and the weekly death average\n",
    "weekly_cases['case average'] = weekly_cases['cases'].loc[:].div(7).round()\n",
    "weekly_cases['death average'] = weekly_cases['deaths'].loc[:].div(7).round()\n",
    "\n",
    "weekly_cases"
   ]
  },
  {
   "cell_type": "code",
   "execution_count": null,
   "metadata": {},
   "outputs": [],
   "source": [
    "#keep only the rows that contain '28' in the weekday column (1+2+3+4+5+6+7 = 28), these are the rows with a full week\n",
    "weekly_cases = weekly_cases[weekly_cases.Weekday == 28]\n",
    "#drop the weekday column\n",
    "weekly_cases = weekly_cases.drop('Weekday', axis=1)\n",
    "\n",
    "weekly_cases"
   ]
  },
  {
   "cell_type": "code",
   "execution_count": null,
   "metadata": {},
   "outputs": [],
   "source": [
    "#divide the dataframe into quarters, first group contains July 2020 to September 2020\n",
    "weekly_cases1 = weekly_cases[:13]\n",
    "\n",
    "weekly_cases1"
   ]
  },
  {
   "cell_type": "code",
   "execution_count": null,
   "metadata": {},
   "outputs": [],
   "source": [
    "#divide the dataframe into quarters, second group contains October 2020 to December 2020\n",
    "weekly_cases2 = weekly_cases[14:26]\n",
    "\n",
    "weekly_cases2"
   ]
  },
  {
   "cell_type": "code",
   "execution_count": null,
   "metadata": {},
   "outputs": [],
   "source": [
    "#divide the dataframe into quarters, third group contains January 2021 to March 2021\n",
    "weekly_cases3 = weekly_cases[27:39]\n",
    "\n",
    "weekly_cases3"
   ]
  },
  {
   "cell_type": "code",
   "execution_count": null,
   "metadata": {},
   "outputs": [],
   "source": [
    "#divide the dataframe into quarters, fourth group contains April 2021 to June 2021\n",
    "weekly_cases4 = weekly_cases[40:]\n",
    "\n",
    "weekly_cases4"
   ]
  },
  {
   "cell_type": "markdown",
   "metadata": {},
   "source": [
    "# Total Weekly Cases Conclusion\n",
    "- In the total weekly cases we see that cases rise steadily.\n",
    "- There is a steeper increase that begins on Week 20 (week of November 7th) and ends on week 33 (week of February 6th).\n",
    "- After week 33 we see that the case increase starts to plateau."
   ]
  },
  {
   "cell_type": "code",
   "execution_count": null,
   "metadata": {},
   "outputs": [],
   "source": [
    "#July 2020 to June 2021\n",
    "#create a line graph with the index in the x-axis and the cases in the y-axis\n",
    "weekly_cases.plot(y=['cases'])\n",
    "#format the y-axis ticks and values to display thousands commas (ie. 100,000)\n",
    "current_values = plt.gca().get_yticks()\n",
    "plt.gca().set_yticklabels(['{:,.0f}'.format(x) for x in current_values])\n",
    "\n",
    "#set the chart title\n",
    "plt.title('Total Weekly Cases Over Time')\n",
    "#set the x and y labels\n",
    "plt.xlabel('Week Number')\n",
    "plt.ylabel('Total Cases')\n",
    "#save image\n",
    "plt.savefig('Total_cases.png', facecolor='white')\n",
    "\n",
    "#add vertical line and background to highlight where there was a steep increase in number of cases\n",
    "plt.axvline(x=20, color = 'r', linestyle = '--', linewidth = 0.5)\n",
    "plt.axvline(x=33, color = 'r', linestyle = '--', linewidth = 0.5)\n",
    "\n",
    "plt.axvspan(20, 33, facecolor = 'r', alpha=0.1)\n",
    "\n",
    "plt.show()"
   ]
  },
  {
   "cell_type": "code",
   "execution_count": null,
   "metadata": {},
   "outputs": [],
   "source": [
    "#First quarter\n",
    "#create a line graph with the index in the x-axis and the cases in the y-axis\n",
    "weekly_cases1.plot(y=['cases'])\n",
    "#format the y-axis ticks and values to display thousands commas (ie. 100,000)\n",
    "current_values = plt.gca().get_yticks()\n",
    "plt.gca().set_yticklabels(['{:,.0f}'.format(x) for x in current_values])\n",
    "\n",
    "#set the chart title\n",
    "plt.title('Total Weekly Cases From July 2020 to September 2020')\n",
    "#set the x and y labels\n",
    "plt.xlabel('Week Number')\n",
    "plt.ylabel('Total Cases')\n",
    "\n",
    "plt.show()"
   ]
  },
  {
   "cell_type": "code",
   "execution_count": null,
   "metadata": {},
   "outputs": [],
   "source": [
    "#Second quarter\n",
    "#create a line graph with the index in the x-axis and the cases in the y-axis\n",
    "weekly_cases2.plot(y=['cases'])\n",
    "#format the y-axis ticks and values to display thousands commas (ie. 100,000)\n",
    "current_values = plt.gca().get_yticks()\n",
    "plt.gca().set_yticklabels(['{:,.0f}'.format(x) for x in current_values])\n",
    "\n",
    "#set the chart title\n",
    "plt.title('Total Weekly Cases From October 2020 to December 2020')\n",
    "#set the x and y labels\n",
    "plt.xlabel('Week Number')\n",
    "plt.ylabel('Total Cases')\n",
    "\n",
    "#add vertical line and background to highlight where the steep increase in number of cases begins\n",
    "plt.axvline(x=20, color = 'r', linestyle = '--', linewidth = 0.5)\n",
    "\n",
    "plt.axvspan(20, 26, facecolor = 'r', alpha=0.1)\n",
    "\n",
    "plt.show()"
   ]
  },
  {
   "cell_type": "code",
   "execution_count": null,
   "metadata": {},
   "outputs": [],
   "source": [
    "#Third quarter\n",
    "#create a line graph with the index in the x-axis and the cases in the y-axis\n",
    "weekly_cases3.plot(y=['cases'])\n",
    "#format the y-axis ticks and values to display thousands commas (ie. 100,000)\n",
    "current_values = plt.gca().get_yticks()\n",
    "plt.gca().set_yticklabels(['{:,.0f}'.format(x) for x in current_values])\n",
    "\n",
    "#set the chart title\n",
    "plt.title('Total Weekly Cases From January 2021 to March 2021')\n",
    "#set the x and y labels\n",
    "plt.xlabel('Week Number')\n",
    "plt.ylabel('Total Cases')\n",
    "\n",
    "#add vertical line and background to highlight where the steep increase in number of cases ends\n",
    "plt.axvline(x=33, color = 'r', linestyle = '--', linewidth = 0.5)\n",
    "\n",
    "plt.axvspan(27, 33, facecolor = 'r', alpha=0.1)\n",
    "\n",
    "plt.show()"
   ]
  },
  {
   "cell_type": "code",
   "execution_count": null,
   "metadata": {},
   "outputs": [],
   "source": [
    "#Fourth quarter\n",
    "#create a line graph with the index in the x-axis and the cases in the y-axis\n",
    "weekly_cases4.plot(y=['cases'])\n",
    "#format the y-axis ticks and values to display thousands commas (ie. 100,000)\n",
    "current_values = plt.gca().get_yticks()\n",
    "plt.gca().set_yticklabels(['{:,.0f}'.format(x) for x in current_values])\n",
    "\n",
    "#set the chart title\n",
    "plt.title('Total Weekly Cases From April 2021 to June 2021')\n",
    "#set the x and y labels\n",
    "plt.xlabel('Week Number')\n",
    "plt.ylabel('Total Cases')\n",
    "\n",
    "plt.show()"
   ]
  },
  {
   "cell_type": "markdown",
   "metadata": {},
   "source": [
    "# Total Weekly Deaths Conclusion\n",
    "- In the total weekly deaths we see that deaths rise steadily.\n",
    "- There is a steeper increase that begins on Week 23 (week of November 28th) and ends on week 38 (week of March 13th).\n",
    "- After week 38 we see that the death increase starts to plateau.\n",
    "- Between week 49 (week of May 29th) and week 51 (June 12th) deaths don't rise, but deaths rise again aftter this period."
   ]
  },
  {
   "cell_type": "code",
   "execution_count": null,
   "metadata": {},
   "outputs": [],
   "source": [
    "#July 2020 to June 2021\n",
    "#create a line graph with the index in the x-axis and the deaths in the y-axis\n",
    "weekly_cases.plot(y=['deaths'])\n",
    "current_values = plt.gca().get_yticks()\n",
    "plt.gca().set_yticklabels(['{:,.0f}'.format(x) for x in current_values])\n",
    "\n",
    "#set the chart title\n",
    "plt.title('Total Weekly Deaths Over Time')\n",
    "#set the x and y labels\n",
    "plt.xlabel('Week Number')\n",
    "plt.ylabel('Total Deaths')\n",
    "plt.savefig('Total_deaths.png', facecolor='white')\n",
    "\n",
    "#add vertical line and background to highlight where there was a steep increase in deaths\n",
    "plt.axvline(x=23, color = 'r', linestyle = '--', linewidth = 0.5)\n",
    "plt.axvline(x=38, color = 'r', linestyle = '--', linewidth = 0.5)\n",
    "\n",
    "plt.axvspan(23, 38, facecolor = 'r', alpha=0.1)\n",
    "\n",
    "plt.show()"
   ]
  },
  {
   "cell_type": "code",
   "execution_count": null,
   "metadata": {},
   "outputs": [],
   "source": [
    "#First quarter\n",
    "#create a line graph with the index in the x-axis and the deaths in the y-axis\n",
    "weekly_cases1.plot(y=['deaths'])\n",
    "current_values = plt.gca().get_yticks()\n",
    "plt.gca().set_yticklabels(['{:,.0f}'.format(x) for x in current_values])\n",
    "\n",
    "#set the chart title\n",
    "plt.title('Total Weekly Deaths From July 2020 to September 2020')\n",
    "#set the x and y labels\n",
    "plt.xlabel('Week Number')\n",
    "plt.ylabel('Total Deaths')\n",
    "plt.show()"
   ]
  },
  {
   "cell_type": "code",
   "execution_count": null,
   "metadata": {},
   "outputs": [],
   "source": [
    "#Second quarter\n",
    "#create a line graph with the index in the x-axis and the deaths in the y-axis\n",
    "weekly_cases2.plot(y=['deaths'])\n",
    "current_values = plt.gca().get_yticks()\n",
    "plt.gca().set_yticklabels(['{:,.0f}'.format(x) for x in current_values])\n",
    "\n",
    "#set the chart title\n",
    "plt.title('Total Weekly Deaths From October 2020 to December 2020')\n",
    "#set the x and y labels\n",
    "plt.xlabel('Week Number')\n",
    "plt.ylabel('Total Deaths')\n",
    "\n",
    "#add vertical line and background to highlight where there was a steep increase in deaths\n",
    "plt.axvline(x=23, color = 'r', linestyle = '--', linewidth = 0.5)\n",
    "\n",
    "plt.axvspan(23, 26, facecolor = 'r', alpha=0.1)\n",
    "\n",
    "plt.show()"
   ]
  },
  {
   "cell_type": "code",
   "execution_count": null,
   "metadata": {},
   "outputs": [],
   "source": [
    "#Third quarter\n",
    "#create a line graph with the index in the x-axis and the deaths in the y-axis\n",
    "weekly_cases3.plot(y=['deaths'])\n",
    "current_values = plt.gca().get_yticks()\n",
    "plt.gca().set_yticklabels(['{:,.0f}'.format(x) for x in current_values])\n",
    "\n",
    "#set the chart title\n",
    "plt.title('Total Weekly Deaths From January 2021 to March 2021')\n",
    "#set the x and y labels\n",
    "plt.xlabel('Week Number')\n",
    "plt.ylabel('Total Deaths')\n",
    "\n",
    "#add vertical line and background to highlight where there was a steep increase in deaths\n",
    "plt.axvline(x=38, color = 'r', linestyle = '--', linewidth = 0.5)\n",
    "\n",
    "plt.axvspan(27, 38, facecolor = 'r', alpha=0.1)\n",
    "\n",
    "plt.show()"
   ]
  },
  {
   "cell_type": "code",
   "execution_count": null,
   "metadata": {},
   "outputs": [],
   "source": [
    "#Fourth quarter\n",
    "#create a line graph with the index in the x-axis and the deaths in the y-axis\n",
    "weekly_cases4.plot(y=['deaths'])\n",
    "current_values = plt.gca().get_yticks()\n",
    "plt.gca().set_yticklabels(['{:,.0f}'.format(x) for x in current_values])\n",
    "\n",
    "#set the chart title\n",
    "plt.title('Total Weekly Deaths From April 2021 to June 2021')\n",
    "#set the x and y labels\n",
    "plt.xlabel('Week Number')\n",
    "plt.ylabel('Total Deaths')\n",
    "\n",
    "#add vertical line and background to highlight where deaths don't rise\n",
    "plt.axvline(x=49, color = 'g', linestyle = '--', linewidth = 0.5)\n",
    "plt.axvline(x=51, color = 'g', linestyle = '--', linewidth = 0.5)\n",
    "\n",
    "plt.axvspan(49, 51, facecolor = 'g', alpha=0.1)\n",
    "\n",
    "plt.show()"
   ]
  },
  {
   "cell_type": "markdown",
   "metadata": {},
   "source": [
    "# Average Cases Per Week Conclusion\n",
    "- The average cases rise steadily.\n",
    "- There is a steeper increase that begins on Week 20 (week of November 7th) and ends on week 33 (week of February 6th).\n",
    "- After week 33 the average case increase starts to plateau."
   ]
  },
  {
   "cell_type": "code",
   "execution_count": null,
   "metadata": {},
   "outputs": [],
   "source": [
    "#July 2020 to June 2021\n",
    "#create a line graph with the index in the x-axis and the case average in the y-axis\n",
    "weekly_cases.plot(y=['case average'])\n",
    "current_values = plt.gca().get_yticks()\n",
    "plt.gca().set_yticklabels(['{:,.0f}'.format(x) for x in current_values])\n",
    "\n",
    "#set the chart title\n",
    "plt.title('Average Cases Per Week Over Time')\n",
    "#set the x and y labels\n",
    "plt.xlabel('Week Number')\n",
    "plt.ylabel('Average Cases')\n",
    "plt.savefig('Average_cases.png', facecolor='white')\n",
    "\n",
    "#add vertical line and background to highlight where there was a steep increase in average cases\n",
    "plt.axvline(x=20, color = 'r', linestyle = '--', linewidth = 0.5)\n",
    "plt.axvline(x=33, color = 'r', linestyle = '--', linewidth = 0.5)\n",
    "\n",
    "plt.axvspan(20, 33, facecolor = 'r', alpha=0.1)\n",
    "\n",
    "plt.savefig('Average_cases.png', facecolor='white')\n",
    "\n",
    "plt.show()"
   ]
  },
  {
   "cell_type": "code",
   "execution_count": null,
   "metadata": {},
   "outputs": [],
   "source": [
    "#First quarter\n",
    "#create a line graph with the index in the x-axis and the cases in the y-axis\n",
    "weekly_cases1.plot(y=['case average'])\n",
    "#format the y-axis ticks and values to display thousands commas (ie. 100,000)\n",
    "current_values = plt.gca().get_yticks()\n",
    "plt.gca().set_yticklabels(['{:,.0f}'.format(x) for x in current_values])\n",
    "\n",
    "#set the chart title\n",
    "plt.title('Average Cases Per Week From July 2020 to September 2020')\n",
    "#set the x and y labels\n",
    "plt.xlabel('Week Number')\n",
    "plt.ylabel('Average Cases')\n",
    "\n",
    "plt.savefig('Average_cases_Q1.png', facecolor='white')\n",
    "\n",
    "plt.show()"
   ]
  },
  {
   "cell_type": "code",
   "execution_count": null,
   "metadata": {},
   "outputs": [],
   "source": [
    "#Second quarter\n",
    "#create a line graph with the index in the x-axis and the cases in the y-axis\n",
    "weekly_cases2.plot(y=['case average'])\n",
    "#format the y-axis ticks and values to display thousands commas (ie. 100,000)\n",
    "current_values = plt.gca().get_yticks()\n",
    "plt.gca().set_yticklabels(['{:,.0f}'.format(x) for x in current_values])\n",
    "\n",
    "#set the chart title\n",
    "plt.title('Average Cases Per Week From October 2020 to December 2020')\n",
    "#set the x and y labels\n",
    "plt.xlabel('Week Number')\n",
    "plt.ylabel('Average Cases')\n",
    "\n",
    "#add vertical line and background to highlight where there was a steep increase in average cases\n",
    "plt.axvline(x=20, color = 'r', linestyle = '--', linewidth = 0.5)\n",
    "\n",
    "plt.axvspan(20, 26, facecolor = 'r', alpha=0.1)\n",
    "\n",
    "plt.savefig('Average_cases_Q2.png', facecolor='white')\n",
    "\n",
    "plt.show()"
   ]
  },
  {
   "cell_type": "code",
   "execution_count": null,
   "metadata": {},
   "outputs": [],
   "source": [
    "#Third quarter\n",
    "#create a line graph with the index in the x-axis and the cases in the y-axis\n",
    "weekly_cases3.plot(y=['case average'])\n",
    "#format the y-axis ticks and values to display thousands commas (ie. 100,000)\n",
    "current_values = plt.gca().get_yticks()\n",
    "plt.gca().set_yticklabels(['{:,.0f}'.format(x) for x in current_values])\n",
    "\n",
    "#set the chart title\n",
    "plt.title('Average Cases Per Week From January 2021 to March 2021')\n",
    "#set the x and y labels\n",
    "plt.xlabel('Week Number')\n",
    "plt.ylabel('Average Cases')\n",
    "\n",
    "#add vertical line and background to highlight where there was a steep increase in average cases\n",
    "plt.axvline(x=33, color = 'r', linestyle = '--', linewidth = 0.5)\n",
    "\n",
    "plt.axvspan(27, 33, facecolor = 'r', alpha=0.1)\n",
    "\n",
    "plt.savefig('Average_cases_Q3.png', facecolor='white')\n",
    "\n",
    "plt.show()"
   ]
  },
  {
   "cell_type": "code",
   "execution_count": null,
   "metadata": {},
   "outputs": [],
   "source": [
    "#Fourth quarter\n",
    "#create a line graph with the index in the x-axis and the cases in the y-axis\n",
    "weekly_cases4.plot(y=['case average'])\n",
    "#format the y-axis ticks and values to display thousands commas (ie. 100,000)\n",
    "current_values = plt.gca().get_yticks()\n",
    "plt.gca().set_yticklabels(['{:,.0f}'.format(x) for x in current_values])\n",
    "\n",
    "#set the chart title\n",
    "plt.title('Average Cases Per Week From April 2021 to June 2021')\n",
    "#set the x and y labels\n",
    "plt.xlabel('Week Number')\n",
    "plt.ylabel('Average Cases')\n",
    "\n",
    "plt.savefig('Average_cases_Q4.png', facecolor='white')\n",
    "\n",
    "plt.show()"
   ]
  },
  {
   "cell_type": "markdown",
   "metadata": {},
   "source": [
    "# Average Deaths Per Week Conclusion\n",
    "- Average deaths per week rise steadily.\n",
    "- There is a steeper increase that begins on Week 23 (week of November 28th) and ends on week 38 (week of March 13th).\n",
    "- After week 38 we see that the death increase starts to plateau.\n",
    "- Deaths dip slightly and don't increase between week 49 (week of May 29th) and week 51 (June 12th), but they rise again aftter this period."
   ]
  },
  {
   "cell_type": "code",
   "execution_count": null,
   "metadata": {},
   "outputs": [],
   "source": [
    "#July 2020 to June 2021\n",
    "#create a line graph with the index in the x-axis and the death average in the y-axis\n",
    "weekly_cases.plot(y=['death average'])\n",
    "current_values = plt.gca().get_yticks()\n",
    "plt.gca().set_yticklabels(['{:,.0f}'.format(x) for x in current_values])\n",
    "\n",
    "#set the chart title\n",
    "plt.title('Average Deaths Per Week Over Time')\n",
    "#set the x and y labels\n",
    "plt.xlabel('Week Number')\n",
    "plt.ylabel('Average Deaths')\n",
    "\n",
    "#add vertical line and background to highlight where there was a steep increase in average deaths\n",
    "plt.axvline(x=23, color = 'r', linestyle = '--', linewidth = 0.5)\n",
    "plt.axvline(x=38, color = 'r', linestyle = '--', linewidth = 0.5)\n",
    "\n",
    "plt.axvspan(23, 38, facecolor = 'r', alpha=0.1)\n",
    "\n",
    "plt.savefig('Average_deaths.png', facecolor='white')\n",
    "plt.show()"
   ]
  },
  {
   "cell_type": "code",
   "execution_count": null,
   "metadata": {},
   "outputs": [],
   "source": [
    "#First quarter\n",
    "#create a line graph with the index in the x-axis and the death average in the y-axis\n",
    "weekly_cases1.plot(y=['death average'])\n",
    "current_values = plt.gca().get_yticks()\n",
    "plt.gca().set_yticklabels(['{:,.0f}'.format(x) for x in current_values])\n",
    "\n",
    "#set the chart title\n",
    "plt.title('Average Deaths Per Week From July 2020 to September 2020')\n",
    "#set the x and y labels\n",
    "plt.xlabel('Week Number')\n",
    "plt.ylabel('Average Deaths')\n",
    "\n",
    "plt.savefig('Average_deaths_Q1.png', facecolor='white')\n",
    "\n",
    "plt.show()"
   ]
  },
  {
   "cell_type": "code",
   "execution_count": null,
   "metadata": {},
   "outputs": [],
   "source": [
    "#Second quarter\n",
    "#create a line graph with the index in the x-axis and the death average in the y-axis\n",
    "weekly_cases2.plot(y=['death average'])\n",
    "current_values = plt.gca().get_yticks()\n",
    "plt.gca().set_yticklabels(['{:,.0f}'.format(x) for x in current_values])\n",
    "\n",
    "#set the chart title\n",
    "plt.title('Average Deaths Per Week From October 2020 to December 2020')\n",
    "#set the x and y labels\n",
    "plt.xlabel('Week Number')\n",
    "plt.ylabel('Average Deaths')\n",
    "\n",
    "#add vertical line and background to highlight where there was a steep increase in average deaths\n",
    "plt.axvline(x=23, color = 'r', linestyle = '--', linewidth = 0.5)\n",
    "\n",
    "plt.axvspan(23, 26, facecolor = 'r', alpha=0.1)\n",
    "\n",
    "plt.savefig('Average_deaths_Q2.png', facecolor='white')\n",
    "\n",
    "plt.show()"
   ]
  },
  {
   "cell_type": "code",
   "execution_count": null,
   "metadata": {},
   "outputs": [],
   "source": [
    "#Third quarter\n",
    "#create a line graph with the index in the x-axis and the death average in the y-axis\n",
    "weekly_cases3.plot(y=['death average'])\n",
    "current_values = plt.gca().get_yticks()\n",
    "plt.gca().set_yticklabels(['{:,.0f}'.format(x) for x in current_values])\n",
    "\n",
    "#set the chart title\n",
    "plt.title('Average Deaths Per Week From January 2021 to March 2021')\n",
    "#set the x and y labels\n",
    "plt.xlabel('Week Number')\n",
    "plt.ylabel('Average Deaths')\n",
    "\n",
    "#add vertical line and background to highlight where there was a steep increase in average deaths\n",
    "plt.axvline(x=38, color = 'r', linestyle = '--', linewidth = 0.5)\n",
    "\n",
    "plt.axvspan(27, 38, facecolor = 'r', alpha=0.1)\n",
    "\n",
    "plt.savefig('Average_deaths_Q3.png', facecolor='white')\n",
    "\n",
    "plt.show()"
   ]
  },
  {
   "cell_type": "code",
   "execution_count": null,
   "metadata": {},
   "outputs": [],
   "source": [
    "#Fourth quarter\n",
    "#create a line graph with the index in the x-axis and the death average in the y-axis\n",
    "weekly_cases4.plot(y=['death average'])\n",
    "current_values = plt.gca().get_yticks()\n",
    "plt.gca().set_yticklabels(['{:,.0f}'.format(x) for x in current_values])\n",
    "\n",
    "#set the chart title\n",
    "plt.title('Average Deaths Per Week From April 2021 to June 2021')\n",
    "#set the x and y labels\n",
    "plt.xlabel('Week Number')\n",
    "plt.ylabel('Average Deaths')\n",
    "\n",
    "#add vertical line and background to highlight where deaths did not rise\n",
    "plt.axvline(x=49, color = 'g', linestyle = '--', linewidth = 0.5)\n",
    "plt.axvline(x=51, color = 'g', linestyle = '--', linewidth = 0.5)\n",
    "\n",
    "plt.axvspan(49, 51, facecolor = 'g', alpha=0.1)\n",
    "\n",
    "plt.savefig('Average_deaths_Q4.png', facecolor='white')\n",
    "\n",
    "plt.show()"
   ]
  },
  {
   "cell_type": "markdown",
   "metadata": {},
   "source": []
  }
 ],
 "metadata": {
  "kernelspec": {
   "display_name": "Python 3.9.12 ('base')",
   "language": "python",
   "name": "python3"
  },
  "language_info": {
   "codemirror_mode": {
    "name": "ipython",
    "version": 3
   },
   "file_extension": ".py",
   "mimetype": "text/x-python",
   "name": "python",
   "nbconvert_exporter": "python",
   "pygments_lexer": "ipython3",
   "version": "3.9.12"
  },
  "orig_nbformat": 4,
  "vscode": {
   "interpreter": {
    "hash": "9424fe230b595050638214e82b7fa1060f6fdf4fcab7424af3a3c7c357b6fbb9"
   }
  }
 },
 "nbformat": 4,
 "nbformat_minor": 2
}
