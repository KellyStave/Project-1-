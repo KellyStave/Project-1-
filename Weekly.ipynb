{
 "cells": [
  {
   "cell_type": "code",
   "execution_count": null,
   "metadata": {},
   "outputs": [],
   "source": [
    "import pandas as pd\n",
    "import numpy as np\n",
    "import matplotlib.pyplot as plt\n",
    "\n",
    "# File to Load (Remember to Change These)\n",
    "data = \"ca_data_jul20-jul21.csv\"\n",
    "\n",
    "# Read Data File and store into Pandas DataFrames\n",
    "covid_data = pd.read_csv(data)\n",
    "covid_data.head()"
   ]
  },
  {
   "cell_type": "code",
   "execution_count": null,
   "metadata": {},
   "outputs": [],
   "source": []
  }
 ],
 "metadata": {
  "kernelspec": {
   "display_name": "Python 3.9.12 ('base')",
   "language": "python",
   "name": "python3"
  },
  "language_info": {
   "name": "python",
   "version": "3.9.12"
  },
  "orig_nbformat": 4,
  "vscode": {
   "interpreter": {
    "hash": "9424fe230b595050638214e82b7fa1060f6fdf4fcab7424af3a3c7c357b6fbb9"
   }
  }
 },
 "nbformat": 4,
 "nbformat_minor": 2
}
