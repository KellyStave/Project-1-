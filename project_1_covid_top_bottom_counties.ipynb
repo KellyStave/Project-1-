{
 "cells": [
  {
   "cell_type": "code",
   "execution_count": 1,
   "metadata": {},
   "outputs": [
    {
     "data": {
      "text/html": [
       "<div>\n",
       "<style scoped>\n",
       "    .dataframe tbody tr th:only-of-type {\n",
       "        vertical-align: middle;\n",
       "    }\n",
       "\n",
       "    .dataframe tbody tr th {\n",
       "        vertical-align: top;\n",
       "    }\n",
       "\n",
       "    .dataframe thead th {\n",
       "        text-align: right;\n",
       "    }\n",
       "</style>\n",
       "<table border=\"1\" class=\"dataframe\">\n",
       "  <thead>\n",
       "    <tr style=\"text-align: right;\">\n",
       "      <th></th>\n",
       "      <th>date</th>\n",
       "      <th>county</th>\n",
       "      <th>state</th>\n",
       "      <th>cases</th>\n",
       "      <th>deaths</th>\n",
       "    </tr>\n",
       "  </thead>\n",
       "  <tbody>\n",
       "    <tr>\n",
       "      <th>0</th>\n",
       "      <td>2020-07-01</td>\n",
       "      <td>Alameda</td>\n",
       "      <td>California</td>\n",
       "      <td>6177</td>\n",
       "      <td>136.0</td>\n",
       "    </tr>\n",
       "    <tr>\n",
       "      <th>1</th>\n",
       "      <td>2020-07-01</td>\n",
       "      <td>Alpine</td>\n",
       "      <td>California</td>\n",
       "      <td>1</td>\n",
       "      <td>0.0</td>\n",
       "    </tr>\n",
       "    <tr>\n",
       "      <th>2</th>\n",
       "      <td>2020-07-01</td>\n",
       "      <td>Amador</td>\n",
       "      <td>California</td>\n",
       "      <td>22</td>\n",
       "      <td>0.0</td>\n",
       "    </tr>\n",
       "    <tr>\n",
       "      <th>3</th>\n",
       "      <td>2020-07-01</td>\n",
       "      <td>Butte</td>\n",
       "      <td>California</td>\n",
       "      <td>189</td>\n",
       "      <td>2.0</td>\n",
       "    </tr>\n",
       "    <tr>\n",
       "      <th>4</th>\n",
       "      <td>2020-07-01</td>\n",
       "      <td>Calaveras</td>\n",
       "      <td>California</td>\n",
       "      <td>40</td>\n",
       "      <td>0.0</td>\n",
       "    </tr>\n",
       "  </tbody>\n",
       "</table>\n",
       "</div>"
      ],
      "text/plain": [
       "         date     county       state  cases  deaths\n",
       "0  2020-07-01    Alameda  California   6177   136.0\n",
       "1  2020-07-01     Alpine  California      1     0.0\n",
       "2  2020-07-01     Amador  California     22     0.0\n",
       "3  2020-07-01      Butte  California    189     2.0\n",
       "4  2020-07-01  Calaveras  California     40     0.0"
      ]
     },
     "execution_count": 1,
     "metadata": {},
     "output_type": "execute_result"
    }
   ],
   "source": [
    "# Dependencies and Setup\n",
    "\n",
    "import matplotlib.pyplot as plt\n",
    "import pandas as pd\n",
    "import scipy.stats as st\n",
    "import numpy as np\n",
    "\n",
    "# File to Load\n",
    "data_covid = \"./ca_data_jul20-jul21.csv\"\n",
    "\n",
    "# Read Data File and store into Pandas DataFrames\n",
    "covid_data = pd.read_csv(data_covid)\n",
    "covid_data.head()"
   ]
  },
  {
   "cell_type": "code",
   "execution_count": 2,
   "metadata": {},
   "outputs": [
    {
     "data": {
      "text/html": [
       "<div>\n",
       "<style scoped>\n",
       "    .dataframe tbody tr th:only-of-type {\n",
       "        vertical-align: middle;\n",
       "    }\n",
       "\n",
       "    .dataframe tbody tr th {\n",
       "        vertical-align: top;\n",
       "    }\n",
       "\n",
       "    .dataframe thead th {\n",
       "        text-align: right;\n",
       "    }\n",
       "</style>\n",
       "<table border=\"1\" class=\"dataframe\">\n",
       "  <thead>\n",
       "    <tr style=\"text-align: right;\">\n",
       "      <th></th>\n",
       "      <th>county</th>\n",
       "      <th>population</th>\n",
       "    </tr>\n",
       "  </thead>\n",
       "  <tbody>\n",
       "    <tr>\n",
       "      <th>0</th>\n",
       "      <td>Alameda</td>\n",
       "      <td>1648556.0</td>\n",
       "    </tr>\n",
       "    <tr>\n",
       "      <th>1</th>\n",
       "      <td>Alpine</td>\n",
       "      <td>1235.0</td>\n",
       "    </tr>\n",
       "    <tr>\n",
       "      <th>2</th>\n",
       "      <td>Amador</td>\n",
       "      <td>41259.0</td>\n",
       "    </tr>\n",
       "    <tr>\n",
       "      <th>3</th>\n",
       "      <td>Butte</td>\n",
       "      <td>208309.0</td>\n",
       "    </tr>\n",
       "    <tr>\n",
       "      <th>4</th>\n",
       "      <td>Calaveras</td>\n",
       "      <td>46221.0</td>\n",
       "    </tr>\n",
       "  </tbody>\n",
       "</table>\n",
       "</div>"
      ],
      "text/plain": [
       "      county  population\n",
       "0    Alameda   1648556.0\n",
       "1     Alpine      1235.0\n",
       "2     Amador     41259.0\n",
       "3      Butte    208309.0\n",
       "4  Calaveras     46221.0"
      ]
     },
     "execution_count": 2,
     "metadata": {},
     "output_type": "execute_result"
    }
   ],
   "source": [
    "# Read Data File and store into Pandas DataFrame\n",
    "data_population = \"./population_estimate_07_21.csv\"\n",
    "population_data = pd.read_csv(data_population)\n",
    "population_data.head()"
   ]
  },
  {
   "cell_type": "code",
   "execution_count": 3,
   "metadata": {},
   "outputs": [
    {
     "data": {
      "text/html": [
       "<div>\n",
       "<style scoped>\n",
       "    .dataframe tbody tr th:only-of-type {\n",
       "        vertical-align: middle;\n",
       "    }\n",
       "\n",
       "    .dataframe tbody tr th {\n",
       "        vertical-align: top;\n",
       "    }\n",
       "\n",
       "    .dataframe thead th {\n",
       "        text-align: right;\n",
       "    }\n",
       "</style>\n",
       "<table border=\"1\" class=\"dataframe\">\n",
       "  <thead>\n",
       "    <tr style=\"text-align: right;\">\n",
       "      <th></th>\n",
       "      <th>county</th>\n",
       "      <th>area</th>\n",
       "    </tr>\n",
       "  </thead>\n",
       "  <tbody>\n",
       "    <tr>\n",
       "      <th>0</th>\n",
       "      <td>San Bernardino</td>\n",
       "      <td>20057.0</td>\n",
       "    </tr>\n",
       "    <tr>\n",
       "      <th>1</th>\n",
       "      <td>Inyo</td>\n",
       "      <td>10181.0</td>\n",
       "    </tr>\n",
       "    <tr>\n",
       "      <th>2</th>\n",
       "      <td>Kern</td>\n",
       "      <td>8132.0</td>\n",
       "    </tr>\n",
       "    <tr>\n",
       "      <th>3</th>\n",
       "      <td>Riverside</td>\n",
       "      <td>7206.0</td>\n",
       "    </tr>\n",
       "    <tr>\n",
       "      <th>4</th>\n",
       "      <td>Siskiyou</td>\n",
       "      <td>6278.0</td>\n",
       "    </tr>\n",
       "  </tbody>\n",
       "</table>\n",
       "</div>"
      ],
      "text/plain": [
       "           county     area\n",
       "0  San Bernardino  20057.0\n",
       "1            Inyo  10181.0\n",
       "2            Kern   8132.0\n",
       "3       Riverside   7206.0\n",
       "4        Siskiyou   6278.0"
      ]
     },
     "execution_count": 3,
     "metadata": {},
     "output_type": "execute_result"
    }
   ],
   "source": [
    "# Read Data File and store into Pandas DataFrame\n",
    "data_area =  \"./area_california_counties.csv\"\n",
    "area_data = pd.read_csv(data_area)\n",
    "area_data.head()"
   ]
  },
  {
   "cell_type": "code",
   "execution_count": 4,
   "metadata": {},
   "outputs": [
    {
     "data": {
      "text/html": [
       "<div>\n",
       "<style scoped>\n",
       "    .dataframe tbody tr th:only-of-type {\n",
       "        vertical-align: middle;\n",
       "    }\n",
       "\n",
       "    .dataframe tbody tr th {\n",
       "        vertical-align: top;\n",
       "    }\n",
       "\n",
       "    .dataframe thead th {\n",
       "        text-align: right;\n",
       "    }\n",
       "</style>\n",
       "<table border=\"1\" class=\"dataframe\">\n",
       "  <thead>\n",
       "    <tr style=\"text-align: right;\">\n",
       "      <th></th>\n",
       "      <th>date</th>\n",
       "      <th>county</th>\n",
       "      <th>state</th>\n",
       "      <th>cases</th>\n",
       "      <th>deaths</th>\n",
       "      <th>population</th>\n",
       "      <th>area</th>\n",
       "    </tr>\n",
       "  </thead>\n",
       "  <tbody>\n",
       "    <tr>\n",
       "      <th>0</th>\n",
       "      <td>2020-07-01</td>\n",
       "      <td>Alameda</td>\n",
       "      <td>California</td>\n",
       "      <td>6177</td>\n",
       "      <td>136.0</td>\n",
       "      <td>1648556.0</td>\n",
       "      <td>739.0</td>\n",
       "    </tr>\n",
       "    <tr>\n",
       "      <th>1</th>\n",
       "      <td>2020-07-02</td>\n",
       "      <td>Alameda</td>\n",
       "      <td>California</td>\n",
       "      <td>6405</td>\n",
       "      <td>138.0</td>\n",
       "      <td>1648556.0</td>\n",
       "      <td>739.0</td>\n",
       "    </tr>\n",
       "    <tr>\n",
       "      <th>2</th>\n",
       "      <td>2020-07-03</td>\n",
       "      <td>Alameda</td>\n",
       "      <td>California</td>\n",
       "      <td>6493</td>\n",
       "      <td>140.0</td>\n",
       "      <td>1648556.0</td>\n",
       "      <td>739.0</td>\n",
       "    </tr>\n",
       "    <tr>\n",
       "      <th>3</th>\n",
       "      <td>2020-07-04</td>\n",
       "      <td>Alameda</td>\n",
       "      <td>California</td>\n",
       "      <td>6577</td>\n",
       "      <td>140.0</td>\n",
       "      <td>1648556.0</td>\n",
       "      <td>739.0</td>\n",
       "    </tr>\n",
       "    <tr>\n",
       "      <th>4</th>\n",
       "      <td>2020-07-05</td>\n",
       "      <td>Alameda</td>\n",
       "      <td>California</td>\n",
       "      <td>6876</td>\n",
       "      <td>140.0</td>\n",
       "      <td>1648556.0</td>\n",
       "      <td>739.0</td>\n",
       "    </tr>\n",
       "  </tbody>\n",
       "</table>\n",
       "</div>"
      ],
      "text/plain": [
       "         date   county       state  cases  deaths  population   area\n",
       "0  2020-07-01  Alameda  California   6177   136.0   1648556.0  739.0\n",
       "1  2020-07-02  Alameda  California   6405   138.0   1648556.0  739.0\n",
       "2  2020-07-03  Alameda  California   6493   140.0   1648556.0  739.0\n",
       "3  2020-07-04  Alameda  California   6577   140.0   1648556.0  739.0\n",
       "4  2020-07-05  Alameda  California   6876   140.0   1648556.0  739.0"
      ]
     },
     "execution_count": 4,
     "metadata": {},
     "output_type": "execute_result"
    }
   ],
   "source": [
    "# Combine the data into a single dataframe\n",
    "\n",
    "data_complete = pd.merge(covid_data, population_data, on = ('county', 'county'))\n",
    "data_complete = pd.merge(data_complete, area_data, on = ('county', 'county'))\n",
    "data_complete.head()\n"
   ]
  },
  {
   "cell_type": "code",
   "execution_count": 5,
   "metadata": {},
   "outputs": [
    {
     "data": {
      "text/html": [
       "<div>\n",
       "<style scoped>\n",
       "    .dataframe tbody tr th:only-of-type {\n",
       "        vertical-align: middle;\n",
       "    }\n",
       "\n",
       "    .dataframe tbody tr th {\n",
       "        vertical-align: top;\n",
       "    }\n",
       "\n",
       "    .dataframe thead th {\n",
       "        text-align: right;\n",
       "    }\n",
       "</style>\n",
       "<table border=\"1\" class=\"dataframe\">\n",
       "  <thead>\n",
       "    <tr style=\"text-align: right;\">\n",
       "      <th></th>\n",
       "      <th>date</th>\n",
       "      <th>state</th>\n",
       "      <th>cases</th>\n",
       "      <th>deaths</th>\n",
       "      <th>population</th>\n",
       "      <th>area</th>\n",
       "    </tr>\n",
       "    <tr>\n",
       "      <th>county</th>\n",
       "      <th></th>\n",
       "      <th></th>\n",
       "      <th></th>\n",
       "      <th></th>\n",
       "      <th></th>\n",
       "      <th></th>\n",
       "    </tr>\n",
       "  </thead>\n",
       "  <tbody>\n",
       "    <tr>\n",
       "      <th>Alameda</th>\n",
       "      <td>2021-06-30</td>\n",
       "      <td>California</td>\n",
       "      <td>90297</td>\n",
       "      <td>1693.0</td>\n",
       "      <td>1648556.0</td>\n",
       "      <td>739.0</td>\n",
       "    </tr>\n",
       "    <tr>\n",
       "      <th>Alpine</th>\n",
       "      <td>2021-06-30</td>\n",
       "      <td>California</td>\n",
       "      <td>89</td>\n",
       "      <td>0.0</td>\n",
       "      <td>1235.0</td>\n",
       "      <td>738.0</td>\n",
       "    </tr>\n",
       "    <tr>\n",
       "      <th>Amador</th>\n",
       "      <td>2021-06-30</td>\n",
       "      <td>California</td>\n",
       "      <td>3753</td>\n",
       "      <td>47.0</td>\n",
       "      <td>41259.0</td>\n",
       "      <td>595.0</td>\n",
       "    </tr>\n",
       "    <tr>\n",
       "      <th>Butte</th>\n",
       "      <td>2021-06-30</td>\n",
       "      <td>California</td>\n",
       "      <td>12697</td>\n",
       "      <td>201.0</td>\n",
       "      <td>208309.0</td>\n",
       "      <td>1636.0</td>\n",
       "    </tr>\n",
       "    <tr>\n",
       "      <th>Calaveras</th>\n",
       "      <td>2021-06-30</td>\n",
       "      <td>California</td>\n",
       "      <td>2210</td>\n",
       "      <td>56.0</td>\n",
       "      <td>46221.0</td>\n",
       "      <td>1020.0</td>\n",
       "    </tr>\n",
       "  </tbody>\n",
       "</table>\n",
       "</div>"
      ],
      "text/plain": [
       "                 date       state  cases  deaths  population    area\n",
       "county                                                              \n",
       "Alameda    2021-06-30  California  90297  1693.0   1648556.0   739.0\n",
       "Alpine     2021-06-30  California     89     0.0      1235.0   738.0\n",
       "Amador     2021-06-30  California   3753    47.0     41259.0   595.0\n",
       "Butte      2021-06-30  California  12697   201.0    208309.0  1636.0\n",
       "Calaveras  2021-06-30  California   2210    56.0     46221.0  1020.0"
      ]
     },
     "execution_count": 5,
     "metadata": {},
     "output_type": "execute_result"
    }
   ],
   "source": [
    "# Create a dataframe which has the ending numbers of cases and deaths in our selected period which is grouped according to county\n",
    "end = data_complete.groupby('county').max()\n",
    "end.head()"
   ]
  },
  {
   "cell_type": "code",
   "execution_count": 6,
   "metadata": {},
   "outputs": [
    {
     "data": {
      "text/html": [
       "<div>\n",
       "<style scoped>\n",
       "    .dataframe tbody tr th:only-of-type {\n",
       "        vertical-align: middle;\n",
       "    }\n",
       "\n",
       "    .dataframe tbody tr th {\n",
       "        vertical-align: top;\n",
       "    }\n",
       "\n",
       "    .dataframe thead th {\n",
       "        text-align: right;\n",
       "    }\n",
       "</style>\n",
       "<table border=\"1\" class=\"dataframe\">\n",
       "  <thead>\n",
       "    <tr style=\"text-align: right;\">\n",
       "      <th></th>\n",
       "      <th>date</th>\n",
       "      <th>state</th>\n",
       "      <th>cases</th>\n",
       "      <th>deaths</th>\n",
       "      <th>population</th>\n",
       "      <th>area</th>\n",
       "    </tr>\n",
       "    <tr>\n",
       "      <th>county</th>\n",
       "      <th></th>\n",
       "      <th></th>\n",
       "      <th></th>\n",
       "      <th></th>\n",
       "      <th></th>\n",
       "      <th></th>\n",
       "    </tr>\n",
       "  </thead>\n",
       "  <tbody>\n",
       "    <tr>\n",
       "      <th>Alameda</th>\n",
       "      <td>2020-07-01</td>\n",
       "      <td>California</td>\n",
       "      <td>6177</td>\n",
       "      <td>136.0</td>\n",
       "      <td>1648556.0</td>\n",
       "      <td>739.0</td>\n",
       "    </tr>\n",
       "    <tr>\n",
       "      <th>Alpine</th>\n",
       "      <td>2020-07-01</td>\n",
       "      <td>California</td>\n",
       "      <td>1</td>\n",
       "      <td>0.0</td>\n",
       "      <td>1235.0</td>\n",
       "      <td>738.0</td>\n",
       "    </tr>\n",
       "    <tr>\n",
       "      <th>Amador</th>\n",
       "      <td>2020-07-01</td>\n",
       "      <td>California</td>\n",
       "      <td>22</td>\n",
       "      <td>0.0</td>\n",
       "      <td>41259.0</td>\n",
       "      <td>595.0</td>\n",
       "    </tr>\n",
       "    <tr>\n",
       "      <th>Butte</th>\n",
       "      <td>2020-07-01</td>\n",
       "      <td>California</td>\n",
       "      <td>189</td>\n",
       "      <td>2.0</td>\n",
       "      <td>208309.0</td>\n",
       "      <td>1636.0</td>\n",
       "    </tr>\n",
       "    <tr>\n",
       "      <th>Calaveras</th>\n",
       "      <td>2020-07-01</td>\n",
       "      <td>California</td>\n",
       "      <td>40</td>\n",
       "      <td>0.0</td>\n",
       "      <td>46221.0</td>\n",
       "      <td>1020.0</td>\n",
       "    </tr>\n",
       "  </tbody>\n",
       "</table>\n",
       "</div>"
      ],
      "text/plain": [
       "                 date       state  cases  deaths  population    area\n",
       "county                                                              \n",
       "Alameda    2020-07-01  California   6177   136.0   1648556.0   739.0\n",
       "Alpine     2020-07-01  California      1     0.0      1235.0   738.0\n",
       "Amador     2020-07-01  California     22     0.0     41259.0   595.0\n",
       "Butte      2020-07-01  California    189     2.0    208309.0  1636.0\n",
       "Calaveras  2020-07-01  California     40     0.0     46221.0  1020.0"
      ]
     },
     "execution_count": 6,
     "metadata": {},
     "output_type": "execute_result"
    }
   ],
   "source": [
    "# Create a dataframe which has the beginning numbers of cases and deaths in our selected period which is grouped according to county\n",
    "beginning = data_complete.groupby('county').min()\n",
    "beginning.head()"
   ]
  },
  {
   "cell_type": "code",
   "execution_count": 7,
   "metadata": {},
   "outputs": [
    {
     "data": {
      "text/html": [
       "<div>\n",
       "<style scoped>\n",
       "    .dataframe tbody tr th:only-of-type {\n",
       "        vertical-align: middle;\n",
       "    }\n",
       "\n",
       "    .dataframe tbody tr th {\n",
       "        vertical-align: top;\n",
       "    }\n",
       "\n",
       "    .dataframe thead th {\n",
       "        text-align: right;\n",
       "    }\n",
       "</style>\n",
       "<table border=\"1\" class=\"dataframe\">\n",
       "  <thead>\n",
       "    <tr style=\"text-align: right;\">\n",
       "      <th></th>\n",
       "      <th>date</th>\n",
       "      <th>state</th>\n",
       "      <th>cases</th>\n",
       "      <th>deaths</th>\n",
       "      <th>population</th>\n",
       "      <th>area</th>\n",
       "      <th>cases in timeframe</th>\n",
       "      <th>deaths in timeframe</th>\n",
       "      <th>density</th>\n",
       "    </tr>\n",
       "    <tr>\n",
       "      <th>county</th>\n",
       "      <th></th>\n",
       "      <th></th>\n",
       "      <th></th>\n",
       "      <th></th>\n",
       "      <th></th>\n",
       "      <th></th>\n",
       "      <th></th>\n",
       "      <th></th>\n",
       "      <th></th>\n",
       "    </tr>\n",
       "  </thead>\n",
       "  <tbody>\n",
       "    <tr>\n",
       "      <th>Alameda</th>\n",
       "      <td>2021-06-30</td>\n",
       "      <td>California</td>\n",
       "      <td>90297</td>\n",
       "      <td>1693.0</td>\n",
       "      <td>1648556.0</td>\n",
       "      <td>739.0</td>\n",
       "      <td>84120</td>\n",
       "      <td>1557.0</td>\n",
       "      <td>2230.79</td>\n",
       "    </tr>\n",
       "    <tr>\n",
       "      <th>Alpine</th>\n",
       "      <td>2021-06-30</td>\n",
       "      <td>California</td>\n",
       "      <td>89</td>\n",
       "      <td>0.0</td>\n",
       "      <td>1235.0</td>\n",
       "      <td>738.0</td>\n",
       "      <td>88</td>\n",
       "      <td>0.0</td>\n",
       "      <td>1.67</td>\n",
       "    </tr>\n",
       "    <tr>\n",
       "      <th>Amador</th>\n",
       "      <td>2021-06-30</td>\n",
       "      <td>California</td>\n",
       "      <td>3753</td>\n",
       "      <td>47.0</td>\n",
       "      <td>41259.0</td>\n",
       "      <td>595.0</td>\n",
       "      <td>3731</td>\n",
       "      <td>47.0</td>\n",
       "      <td>69.34</td>\n",
       "    </tr>\n",
       "    <tr>\n",
       "      <th>Butte</th>\n",
       "      <td>2021-06-30</td>\n",
       "      <td>California</td>\n",
       "      <td>12697</td>\n",
       "      <td>201.0</td>\n",
       "      <td>208309.0</td>\n",
       "      <td>1636.0</td>\n",
       "      <td>12508</td>\n",
       "      <td>199.0</td>\n",
       "      <td>127.33</td>\n",
       "    </tr>\n",
       "    <tr>\n",
       "      <th>Calaveras</th>\n",
       "      <td>2021-06-30</td>\n",
       "      <td>California</td>\n",
       "      <td>2210</td>\n",
       "      <td>56.0</td>\n",
       "      <td>46221.0</td>\n",
       "      <td>1020.0</td>\n",
       "      <td>2170</td>\n",
       "      <td>56.0</td>\n",
       "      <td>45.31</td>\n",
       "    </tr>\n",
       "  </tbody>\n",
       "</table>\n",
       "</div>"
      ],
      "text/plain": [
       "                 date       state  cases  deaths  population    area  \\\n",
       "county                                                                 \n",
       "Alameda    2021-06-30  California  90297  1693.0   1648556.0   739.0   \n",
       "Alpine     2021-06-30  California     89     0.0      1235.0   738.0   \n",
       "Amador     2021-06-30  California   3753    47.0     41259.0   595.0   \n",
       "Butte      2021-06-30  California  12697   201.0    208309.0  1636.0   \n",
       "Calaveras  2021-06-30  California   2210    56.0     46221.0  1020.0   \n",
       "\n",
       "           cases in timeframe  deaths in timeframe  density  \n",
       "county                                                       \n",
       "Alameda                 84120               1557.0  2230.79  \n",
       "Alpine                     88                  0.0     1.67  \n",
       "Amador                   3731                 47.0    69.34  \n",
       "Butte                   12508                199.0   127.33  \n",
       "Calaveras                2170                 56.0    45.31  "
      ]
     },
     "execution_count": 7,
     "metadata": {},
     "output_type": "execute_result"
    }
   ],
   "source": [
    "# Creating two new columns which are calculating the numbers of cases and deaths just in our sellected period\n",
    "end['cases in timeframe'] = end['cases'] - beginning['cases']\n",
    "end['deaths in timeframe'] = end['deaths'] - beginning['deaths']\n",
    "end['density'] = round(end['population'] / end['area'], 2)\n",
    "end.head()"
   ]
  },
  {
   "cell_type": "code",
   "execution_count": 8,
   "metadata": {},
   "outputs": [
    {
     "data": {
      "text/html": [
       "<div>\n",
       "<style scoped>\n",
       "    .dataframe tbody tr th:only-of-type {\n",
       "        vertical-align: middle;\n",
       "    }\n",
       "\n",
       "    .dataframe tbody tr th {\n",
       "        vertical-align: top;\n",
       "    }\n",
       "\n",
       "    .dataframe thead th {\n",
       "        text-align: right;\n",
       "    }\n",
       "</style>\n",
       "<table border=\"1\" class=\"dataframe\">\n",
       "  <thead>\n",
       "    <tr style=\"text-align: right;\">\n",
       "      <th></th>\n",
       "      <th>cases in timeframe</th>\n",
       "    </tr>\n",
       "    <tr>\n",
       "      <th>county</th>\n",
       "      <th></th>\n",
       "    </tr>\n",
       "  </thead>\n",
       "  <tbody>\n",
       "    <tr>\n",
       "      <th>Los Angeles</th>\n",
       "      <td>1145401</td>\n",
       "    </tr>\n",
       "    <tr>\n",
       "      <th>San Bernardino</th>\n",
       "      <td>287017</td>\n",
       "    </tr>\n",
       "    <tr>\n",
       "      <th>Riverside</th>\n",
       "      <td>283143</td>\n",
       "    </tr>\n",
       "    <tr>\n",
       "      <th>San Diego</th>\n",
       "      <td>267876</td>\n",
       "    </tr>\n",
       "    <tr>\n",
       "      <th>Orange</th>\n",
       "      <td>259148</td>\n",
       "    </tr>\n",
       "  </tbody>\n",
       "</table>\n",
       "</div>"
      ],
      "text/plain": [
       "                cases in timeframe\n",
       "county                            \n",
       "Los Angeles                1145401\n",
       "San Bernardino              287017\n",
       "Riverside                   283143\n",
       "San Diego                   267876\n",
       "Orange                      259148"
      ]
     },
     "execution_count": 8,
     "metadata": {},
     "output_type": "execute_result"
    }
   ],
   "source": [
    "# Finding the top 5 countries according to number of cases\n",
    "top_counties_cases= end.nlargest(5, 'cases in timeframe')\n",
    "top_counties_cases = top_counties_cases.drop(columns=['date', 'state','cases','deaths','deaths in timeframe','population','area', 'density'])\n",
    "top_counties_cases"
   ]
  },
  {
   "cell_type": "code",
   "execution_count": 9,
   "metadata": {},
   "outputs": [
    {
     "data": {
      "text/html": [
       "<div>\n",
       "<style scoped>\n",
       "    .dataframe tbody tr th:only-of-type {\n",
       "        vertical-align: middle;\n",
       "    }\n",
       "\n",
       "    .dataframe tbody tr th {\n",
       "        vertical-align: top;\n",
       "    }\n",
       "\n",
       "    .dataframe thead th {\n",
       "        text-align: right;\n",
       "    }\n",
       "</style>\n",
       "<table border=\"1\" class=\"dataframe\">\n",
       "  <thead>\n",
       "    <tr style=\"text-align: right;\">\n",
       "      <th></th>\n",
       "      <th>deaths in timeframe</th>\n",
       "    </tr>\n",
       "    <tr>\n",
       "      <th>county</th>\n",
       "      <th></th>\n",
       "    </tr>\n",
       "  </thead>\n",
       "  <tbody>\n",
       "    <tr>\n",
       "      <th>Los Angeles</th>\n",
       "      <td>21096.0</td>\n",
       "    </tr>\n",
       "    <tr>\n",
       "      <th>Orange</th>\n",
       "      <td>4779.0</td>\n",
       "    </tr>\n",
       "    <tr>\n",
       "      <th>San Bernardino</th>\n",
       "      <td>4682.0</td>\n",
       "    </tr>\n",
       "    <tr>\n",
       "      <th>Riverside</th>\n",
       "      <td>4173.0</td>\n",
       "    </tr>\n",
       "    <tr>\n",
       "      <th>San Diego</th>\n",
       "      <td>3408.0</td>\n",
       "    </tr>\n",
       "  </tbody>\n",
       "</table>\n",
       "</div>"
      ],
      "text/plain": [
       "                deaths in timeframe\n",
       "county                             \n",
       "Los Angeles                 21096.0\n",
       "Orange                       4779.0\n",
       "San Bernardino               4682.0\n",
       "Riverside                    4173.0\n",
       "San Diego                    3408.0"
      ]
     },
     "execution_count": 9,
     "metadata": {},
     "output_type": "execute_result"
    }
   ],
   "source": [
    "# Finding the top 5 countries according to number of deaths\n",
    "top_counties_deaths = end.nlargest(5, 'deaths in timeframe')\n",
    "top_counties_deaths = top_counties_deaths.drop(columns=['date', 'state','cases','deaths','cases in timeframe','population','area', 'density'])\n",
    "top_counties_deaths"
   ]
  },
  {
   "cell_type": "code",
   "execution_count": 10,
   "metadata": {},
   "outputs": [
    {
     "data": {
      "text/html": [
       "<div>\n",
       "<style scoped>\n",
       "    .dataframe tbody tr th:only-of-type {\n",
       "        vertical-align: middle;\n",
       "    }\n",
       "\n",
       "    .dataframe tbody tr th {\n",
       "        vertical-align: top;\n",
       "    }\n",
       "\n",
       "    .dataframe thead th {\n",
       "        text-align: right;\n",
       "    }\n",
       "</style>\n",
       "<table border=\"1\" class=\"dataframe\">\n",
       "  <thead>\n",
       "    <tr style=\"text-align: right;\">\n",
       "      <th></th>\n",
       "      <th>cases in timeframe</th>\n",
       "    </tr>\n",
       "    <tr>\n",
       "      <th>county</th>\n",
       "      <th></th>\n",
       "    </tr>\n",
       "  </thead>\n",
       "  <tbody>\n",
       "    <tr>\n",
       "      <th>Sierra</th>\n",
       "      <td>58</td>\n",
       "    </tr>\n",
       "    <tr>\n",
       "      <th>Alpine</th>\n",
       "      <td>88</td>\n",
       "    </tr>\n",
       "    <tr>\n",
       "      <th>Trinity</th>\n",
       "      <td>339</td>\n",
       "    </tr>\n",
       "    <tr>\n",
       "      <th>Mariposa</th>\n",
       "      <td>440</td>\n",
       "    </tr>\n",
       "    <tr>\n",
       "      <th>Modoc</th>\n",
       "      <td>564</td>\n",
       "    </tr>\n",
       "  </tbody>\n",
       "</table>\n",
       "</div>"
      ],
      "text/plain": [
       "          cases in timeframe\n",
       "county                      \n",
       "Sierra                    58\n",
       "Alpine                    88\n",
       "Trinity                  339\n",
       "Mariposa                 440\n",
       "Modoc                    564"
      ]
     },
     "execution_count": 10,
     "metadata": {},
     "output_type": "execute_result"
    }
   ],
   "source": [
    "# Finding the bottom 5 countries according to number of cases\n",
    "bottom_counties_cases = end.nsmallest(5, 'cases in timeframe')\n",
    "bottom_counties_cases = bottom_counties_cases.drop(columns=['date', 'state','cases','deaths','deaths in timeframe','population','area', 'density'])\n",
    "bottom_counties_cases"
   ]
  },
  {
   "cell_type": "code",
   "execution_count": 11,
   "metadata": {},
   "outputs": [
    {
     "data": {
      "text/html": [
       "<div>\n",
       "<style scoped>\n",
       "    .dataframe tbody tr th:only-of-type {\n",
       "        vertical-align: middle;\n",
       "    }\n",
       "\n",
       "    .dataframe tbody tr th {\n",
       "        vertical-align: top;\n",
       "    }\n",
       "\n",
       "    .dataframe thead th {\n",
       "        text-align: right;\n",
       "    }\n",
       "</style>\n",
       "<table border=\"1\" class=\"dataframe\">\n",
       "  <thead>\n",
       "    <tr style=\"text-align: right;\">\n",
       "      <th></th>\n",
       "      <th>deaths in timeframe</th>\n",
       "    </tr>\n",
       "    <tr>\n",
       "      <th>county</th>\n",
       "      <th></th>\n",
       "    </tr>\n",
       "  </thead>\n",
       "  <tbody>\n",
       "    <tr>\n",
       "      <th>Alpine</th>\n",
       "      <td>0.0</td>\n",
       "    </tr>\n",
       "    <tr>\n",
       "      <th>Sierra</th>\n",
       "      <td>0.0</td>\n",
       "    </tr>\n",
       "    <tr>\n",
       "      <th>Mono</th>\n",
       "      <td>3.0</td>\n",
       "    </tr>\n",
       "    <tr>\n",
       "      <th>Modoc</th>\n",
       "      <td>5.0</td>\n",
       "    </tr>\n",
       "    <tr>\n",
       "      <th>Trinity</th>\n",
       "      <td>5.0</td>\n",
       "    </tr>\n",
       "  </tbody>\n",
       "</table>\n",
       "</div>"
      ],
      "text/plain": [
       "         deaths in timeframe\n",
       "county                      \n",
       "Alpine                   0.0\n",
       "Sierra                   0.0\n",
       "Mono                     3.0\n",
       "Modoc                    5.0\n",
       "Trinity                  5.0"
      ]
     },
     "execution_count": 11,
     "metadata": {},
     "output_type": "execute_result"
    }
   ],
   "source": [
    "# Finding the bottom 5 countries according to number of deaths\n",
    "bottom_counties_deaths = end.nsmallest(5, 'deaths in timeframe')\n",
    "bottom_counties_deaths = bottom_counties_deaths.drop(columns=['date', 'state','cases','deaths','cases in timeframe','population','area', 'density'])\n",
    "bottom_counties_deaths"
   ]
  },
  {
   "cell_type": "code",
   "execution_count": 12,
   "metadata": {},
   "outputs": [
    {
     "data": {
      "image/png": "[encoded data removed]",
      "text/plain": [
       "<Figure size 432x288 with 1 Axes>"
      ]
     },
     "metadata": {
      "needs_background": "light"
     },
     "output_type": "display_data"
    }
   ],
   "source": [
    "# Graphing Top 5 Counties in California according to number of cases in choosen period\n",
    "plot = top_counties_cases.plot(kind = 'bar', color=\"red\")\n",
    "plot.set_xlabel(\"County\", fontsize=15)\n",
    "plot.set_ylabel(\"Number of cases (in millions)\",x=3, fontsize=12)\n",
    "plt.suptitle(\"Top 5 Counties in California (# cases)\",y=1.1, fontsize=18)\n",
    "plt.title(\"from July 1st 2020- June 30th 2021\", y=1.05, fontsize=10)\n",
    "plt.savefig(\"./Images/top_counties_cases.png\")"
   ]
  },
  {
   "cell_type": "code",
   "execution_count": 13,
   "metadata": {},
   "outputs": [
    {
     "data": {
      "image/png": "[encoded data removed]",
      "text/plain": [
       "<Figure size 432x288 with 1 Axes>"
      ]
     },
     "metadata": {
      "needs_background": "light"
     },
     "output_type": "display_data"
    }
   ],
   "source": [
    "# Graphing Top 5 Counties in California according to number of deaths in choosen period\n",
    "plot = top_counties_deaths.plot(kind = 'bar', color= 'red')\n",
    "plot.set_xlabel(\"County\",fontsize = 15)\n",
    "plot.set_ylabel(\"Number of deaths\",x=3, fontsize=12)\n",
    "plt.suptitle(\"Top 5 Counties in California (# deaths)\",y=1.1, fontsize=18)\n",
    "plt.title(\"from July 1st 2020- June 30th 2021\", y=1.05, fontsize=10)\n",
    "plt.savefig(\"./Images/top_counties_deaths.png\")"
   ]
  },
  {
   "cell_type": "code",
   "execution_count": 14,
   "metadata": {},
   "outputs": [
    {
     "data": {
      "image/png": "[encoded data removed]",
      "text/plain": [
       "<Figure size 432x288 with 1 Axes>"
      ]
     },
     "metadata": {
      "needs_background": "light"
     },
     "output_type": "display_data"
    }
   ],
   "source": [
    "# Graphing Bottom 5 Counties in California according to number of cases in choosen period\n",
    "plot = bottom_counties_cases.plot(kind = 'bar', color=\"red\")\n",
    "plot.set_xlabel(\"County\", fontsize=15)\n",
    "plot.set_ylabel(\"Number of cases\", x=3, fontsize = 12)\n",
    "plt.suptitle(\"Bottom 5 Counties in California (# cases)\", y = 1.1, fontsize = 18)\n",
    "plt.title(\"from July 1st 2020- June 30th 2021\", y=1.05, fontsize=10)\n",
    "plt.savefig(\"./Images/bottom_counties_cases.png\")"
   ]
  },
  {
   "cell_type": "code",
   "execution_count": 15,
   "metadata": {},
   "outputs": [
    {
     "data": {
      "image/png": "[encoded data removed]",
      "text/plain": [
       "<Figure size 432x288 with 1 Axes>"
      ]
     },
     "metadata": {
      "needs_background": "light"
     },
     "output_type": "display_data"
    }
   ],
   "source": [
    "# Graphing Bottom 5 Counties in California according to number of deaths in choosen period\n",
    "plot = bottom_counties_deaths.plot(kind = 'bar', color = 'red')\n",
    "plot.set_xlabel(\"County\", fontsize = 15)\n",
    "plot.set_ylabel(\"Number of deaths\", x=3, fontsize = 12)\n",
    "plt.suptitle(\"Bottom 5 Counties in California (# deaths)\", y = 1.1, fontsize = 18)\n",
    "plt.title(\"from July 1st 2020- June 30th 2021\", y=1.05, fontsize=10)\n",
    "plt.savefig(\"./Images/bottom_counties_deaths.png\")"
   ]
  },
  {
   "cell_type": "code",
   "execution_count": 16,
   "metadata": {},
   "outputs": [
    {
     "name": "stdout",
     "output_type": "stream",
     "text": [
      "The correlation between cases and deaths is 1.0\n"
     ]
    },
    {
     "data": {
      "image/png": "[encoded data removed]",
      "text/plain": [
       "<Figure size 432x288 with 1 Axes>"
      ]
     },
     "metadata": {
      "needs_background": "light"
     },
     "output_type": "display_data"
    }
   ],
   "source": [
    "# Calculate the correlation coefficient and linear regression model \n",
    "\n",
    "x_axis = end['cases']\n",
    "\n",
    "y_axis = end['deaths']\n",
    "\n",
    "correlation = st.pearsonr(x_axis,y_axis)\n",
    "(slope, intercept, rvalue, pvalue, stderr) = st.linregress(x_axis, y_axis)\n",
    "regress_values = x_axis * slope + intercept\n",
    "#line_eq = \"y = \" + str(round(slope,2)) + \"x + \" + str(round(intercept,2))\n",
    "\n",
    "plt.scatter(x_axis,y_axis)\n",
    "plt.xlabel('cases')\n",
    "plt.ylabel('deaths')\n",
    "plt.plot(x_axis,regress_values, \"r-\")\n",
    "#plt.annotate(line_eq,(10,-20),fontsize=15,color=\"red\")\n",
    "\n",
    "print(f'The correlation between cases and deaths is {round(correlation[0],2)}')\n",
    "\n",
    "plt.savefig(\"./Images/plot_cases_deaths.png\")"
   ]
  },
  {
   "cell_type": "code",
   "execution_count": 17,
   "metadata": {},
   "outputs": [
    {
     "name": "stdout",
     "output_type": "stream",
     "text": [
      "The correlation between cases and population is 0.98\n"
     ]
    },
    {
     "data": {
      "image/png": "[encoded data removed]",
      "text/plain": [
       "<Figure size 432x288 with 1 Axes>"
      ]
     },
     "metadata": {
      "needs_background": "light"
     },
     "output_type": "display_data"
    }
   ],
   "source": [
    "# Calculate the correlation coefficient and linear regression model \n",
    "\n",
    "x_axis = end['cases']\n",
    "\n",
    "y_axis = end['population']\n",
    "\n",
    "correlation = st.pearsonr(x_axis,y_axis)\n",
    "(slope, intercept, rvalue, pvalue, stderr) = st.linregress(x_axis, y_axis)\n",
    "regress_values = x_axis * slope + intercept\n",
    "#line_eq = \"y = \" + str(round(slope,2)) + \"x + \" + str(round(intercept,2))\n",
    "\n",
    "plt.scatter(x_axis,y_axis)\n",
    "plt.xlabel('cases')\n",
    "plt.ylabel('population')\n",
    "plt.plot(x_axis,regress_values, \"r-\")\n",
    "#plt.annotate(line_eq,(10,-20),fontsize=15,color=\"red\")\n",
    "\n",
    "print(f'The correlation between cases and population is {round(correlation[0],2)}')\n",
    "\n",
    "plt.savefig(\"./Images/plot_cases_population.png\")"
   ]
  },
  {
   "cell_type": "code",
   "execution_count": 18,
   "metadata": {},
   "outputs": [
    {
     "name": "stdout",
     "output_type": "stream",
     "text": [
      "The correlation between cases and area is 0.25\n"
     ]
    },
    {
     "data": {
      "image/png": "[encoded data removed]",
      "text/plain": [
       "<Figure size 432x288 with 1 Axes>"
      ]
     },
     "metadata": {
      "needs_background": "light"
     },
     "output_type": "display_data"
    }
   ],
   "source": [
    "# Calculate the correlation coefficient and linear regression model \n",
    "\n",
    "x_axis = end['cases']\n",
    "\n",
    "y_axis = end['area']\n",
    "\n",
    "correlation = st.pearsonr(x_axis,y_axis)\n",
    "(slope, intercept, rvalue, pvalue, stderr) = st.linregress(x_axis, y_axis)\n",
    "regress_values = x_axis * slope + intercept\n",
    "\n",
    "plt.scatter(x_axis,y_axis)\n",
    "plt.xlabel('cases')\n",
    "plt.ylabel('area')\n",
    "plt.plot(x_axis,regress_values, \"r-\")\n",
    "\n",
    "print(f'The correlation between cases and area is {round(correlation[0],2)}')\n",
    "\n",
    "plt.savefig(\"./Images/plot_cases_area.png\")"
   ]
  },
  {
   "cell_type": "code",
   "execution_count": 19,
   "metadata": {},
   "outputs": [
    {
     "name": "stdout",
     "output_type": "stream",
     "text": [
      "The correlation between deaths and population is 0.97\n"
     ]
    },
    {
     "data": {
      "image/png": "[encoded data removed]",
      "text/plain": [
       "<Figure size 432x288 with 1 Axes>"
      ]
     },
     "metadata": {
      "needs_background": "light"
     },
     "output_type": "display_data"
    }
   ],
   "source": [
    "# Calculate the correlation coefficient and linear regression model \n",
    "\n",
    "x_axis = end['deaths']\n",
    "\n",
    "y_axis = end['population']\n",
    "\n",
    "correlation = st.pearsonr(x_axis,y_axis)\n",
    "(slope, intercept, rvalue, pvalue, stderr) = st.linregress(x_axis, y_axis)\n",
    "regress_values = x_axis * slope + intercept\n",
    "\n",
    "plt.scatter(x_axis,y_axis)\n",
    "plt.xlabel('deaths')\n",
    "plt.ylabel('population')\n",
    "plt.plot(x_axis,regress_values, \"r-\")\n",
    "\n",
    "print(f'The correlation between deaths and population is {round(correlation[0],2)}')\n",
    "\n",
    "plt.savefig(\"./Images/plot_deaths_population.png\")"
   ]
  },
  {
   "cell_type": "code",
   "execution_count": 20,
   "metadata": {},
   "outputs": [
    {
     "name": "stdout",
     "output_type": "stream",
     "text": [
      "The correlation between deaths and area is 0.22\n"
     ]
    },
    {
     "data": {
      "image/png": "[encoded data removed]",
      "text/plain": [
       "<Figure size 432x288 with 1 Axes>"
      ]
     },
     "metadata": {
      "needs_background": "light"
     },
     "output_type": "display_data"
    }
   ],
   "source": [
    "# Calculate the correlation coefficient and linear regression model \n",
    "\n",
    "x_axis = end['deaths']\n",
    "\n",
    "y_axis = end['area']\n",
    "\n",
    "correlation = st.pearsonr(x_axis,y_axis)\n",
    "(slope, intercept, rvalue, pvalue, stderr) = st.linregress(x_axis, y_axis)\n",
    "regress_values = x_axis * slope + intercept\n",
    "\n",
    "plt.scatter(x_axis,y_axis)\n",
    "plt.xlabel('deaths')\n",
    "plt.ylabel('area')\n",
    "plt.plot(x_axis,regress_values, \"r-\")\n",
    "\n",
    "print(f'The correlation between deaths and area is {round(correlation[0],2)}')\n",
    "\n",
    "plt.savefig(\"./Images/plot_deaths_area.png\")"
   ]
  },
  {
   "cell_type": "code",
   "execution_count": 21,
   "metadata": {},
   "outputs": [
    {
     "name": "stdout",
     "output_type": "stream",
     "text": [
      "The correlation between population and area is 0.2\n"
     ]
    },
    {
     "data": {
      "image/png": "[encoded data removed]",
      "text/plain": [
       "<Figure size 432x288 with 1 Axes>"
      ]
     },
     "metadata": {
      "needs_background": "light"
     },
     "output_type": "display_data"
    }
   ],
   "source": [
    "# Calculate the correlation coefficient and linear regression model \n",
    "\n",
    "x_axis = end['population']\n",
    "\n",
    "y_axis = end['area']\n",
    "\n",
    "correlation = st.pearsonr(x_axis,y_axis)\n",
    "(slope, intercept, rvalue, pvalue, stderr) = st.linregress(x_axis, y_axis)\n",
    "regress_values = x_axis * slope + intercept\n",
    "\n",
    "plt.scatter(x_axis,y_axis)\n",
    "plt.xlabel('population')\n",
    "plt.ylabel('area')\n",
    "plt.plot(x_axis,regress_values, \"r-\")\n",
    "\n",
    "print(f'The correlation between population and area is {round(correlation[0],2)}')\n",
    "\n",
    "plt.savefig(\"./Images/plot_population_area.png\")"
   ]
  },
  {
   "cell_type": "code",
   "execution_count": 22,
   "metadata": {},
   "outputs": [
    {
     "name": "stdout",
     "output_type": "stream",
     "text": [
      "The correlation between cases and density is 0.15\n"
     ]
    },
    {
     "data": {
      "image/png": "[encoded data removed]",
      "text/plain": [
       "<Figure size 432x288 with 1 Axes>"
      ]
     },
     "metadata": {
      "needs_background": "light"
     },
     "output_type": "display_data"
    }
   ],
   "source": [
    "# Calculate the correlation coefficient and linear regression model \n",
    "\n",
    "x_axis = end['cases']\n",
    "\n",
    "y_axis = end['density']\n",
    "\n",
    "correlation = st.pearsonr(x_axis,y_axis)\n",
    "(slope, intercept, rvalue, pvalue, stderr) = st.linregress(x_axis, y_axis)\n",
    "regress_values = x_axis * slope + intercept\n",
    "\n",
    "plt.scatter(x_axis,y_axis)\n",
    "plt.xlabel('cases')\n",
    "plt.ylabel('density')\n",
    "plt.plot(x_axis,regress_values, \"r-\")\n",
    "\n",
    "print(f'The correlation between cases and density is {round(correlation[0],2)}')\n",
    "\n",
    "plt.savefig(\"./Images/plot_cases_density.png\")"
   ]
  },
  {
   "cell_type": "code",
   "execution_count": 23,
   "metadata": {},
   "outputs": [
    {
     "name": "stdout",
     "output_type": "stream",
     "text": [
      "The correlation between deaths and density is 0.15\n"
     ]
    },
    {
     "data": {
      "image/png": "[encoded data removed]",
      "text/plain": [
       "<Figure size 432x288 with 1 Axes>"
      ]
     },
     "metadata": {
      "needs_background": "light"
     },
     "output_type": "display_data"
    }
   ],
   "source": [
    "# Calculate the correlation coefficient and linear regression model \n",
    "\n",
    "x_axis = end['deaths']\n",
    "\n",
    "y_axis = end['density']\n",
    "\n",
    "correlation = st.pearsonr(x_axis,y_axis)\n",
    "(slope, intercept, rvalue, pvalue, stderr) = st.linregress(x_axis, y_axis)\n",
    "regress_values = x_axis * slope + intercept\n",
    "\n",
    "plt.scatter(x_axis,y_axis)\n",
    "plt.xlabel('deaths')\n",
    "plt.ylabel('density')\n",
    "plt.plot(x_axis,regress_values, \"r-\")\n",
    "\n",
    "print(f'The correlation between deaths and density is {round(correlation[0],2)}')\n",
    "\n",
    "plt.savefig(\"./Images/plot_deaths_density.png\")"
   ]
  }
 ],
 "metadata": {
  "kernelspec": {
   "display_name": "Python 3.9.12 ('base')",
   "language": "python",
   "name": "python3"
  },
  "language_info": {
   "codemirror_mode": {
    "name": "ipython",
    "version": 3
   },
   "file_extension": ".py",
   "mimetype": "text/x-python",
   "name": "python",
   "nbconvert_exporter": "python",
   "pygments_lexer": "ipython3",
   "version": "3.9.12"
  },
  "orig_nbformat": 4,
  "vscode": {
   "interpreter": {
    "hash": "3f4da9ad29e059a40e4a65ef355beaf2f6b9d5f6b9e791e2b0a14c28b2ec070e"
   }
  }
 },
 "nbformat": 4,
 "nbformat_minor": 2
}
